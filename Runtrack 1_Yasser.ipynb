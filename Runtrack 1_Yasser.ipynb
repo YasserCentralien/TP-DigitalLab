{
 "cells": [
  {
   "cell_type": "markdown",
   "id": "2c19a0a6-ffeb-4f11-bcc7-f3fa1c155e05",
   "metadata": {},
   "source": [
    "Job 1"
   ]
  },
  {
   "cell_type": "markdown",
   "id": "e67df375-9e96-4af6-abea-9afc8dbe015c",
   "metadata": {},
   "source": [
    "Job 2\n"
   ]
  },
  {
   "cell_type": "code",
   "execution_count": 2,
   "id": "4539c2bb-1b4b-4e7d-87d5-4b3e65479527",
   "metadata": {},
   "outputs": [
    {
     "data": {
      "text/plain": [
       "30"
      ]
     },
     "execution_count": 2,
     "metadata": {},
     "output_type": "execute_result"
    }
   ],
   "source": [
    "10*3\n"
   ]
  },
  {
   "cell_type": "code",
   "execution_count": 3,
   "id": "2950011e-d4f9-4457-945c-a04d469ef3f9",
   "metadata": {},
   "outputs": [
    {
     "data": {
      "text/plain": [
       "7"
      ]
     },
     "execution_count": 3,
     "metadata": {},
     "output_type": "execute_result"
    }
   ],
   "source": [
    "10-3\n"
   ]
  },
  {
   "cell_type": "markdown",
   "id": "84dc0508-a8e6-44bf-af6e-1f13be64b915",
   "metadata": {},
   "source": [
    "Job 3"
   ]
  },
  {
   "cell_type": "code",
   "execution_count": 4,
   "id": "b248fab5-4cb9-4290-bfc6-0afe28cbce74",
   "metadata": {},
   "outputs": [
    {
     "name": "stdout",
     "output_type": "stream",
     "text": [
      "13\n"
     ]
    }
   ],
   "source": [
    "print(10 + 3)"
   ]
  },
  {
   "cell_type": "markdown",
   "id": "c2c077a8-ceea-4d90-b192-bd2877b3fd65",
   "metadata": {},
   "source": [
    "Job 5"
   ]
  },
  {
   "cell_type": "markdown",
   "id": "77ae89a8-025e-4740-8f0d-fd42a73fa651",
   "metadata": {},
   "source": [
    "Job 7"
   ]
  },
  {
   "cell_type": "code",
   "execution_count": 13,
   "id": "60ac2be5-e40f-4bf4-a6cc-79de24726cf4",
   "metadata": {},
   "outputs": [
    {
     "name": "stdout",
     "output_type": "stream",
     "text": [
      "6\n"
     ]
    }
   ],
   "source": [
    "def Add(n,p):\n",
    "    return(n+p)\n",
    "\n",
    "print(Add(1,5))\n",
    "    "
   ]
  },
  {
   "cell_type": "code",
   "execution_count": 16,
   "id": "c7802929-7a78-4a2c-9122-5d67e7fd4a56",
   "metadata": {},
   "outputs": [
    {
     "name": "stdin",
     "output_type": "stream",
     "text": [
      "Veuillez entrez votre nom Yasser\n"
     ]
    },
    {
     "name": "stdout",
     "output_type": "stream",
     "text": [
      "Hello Yasser !\n"
     ]
    }
   ],
   "source": [
    "x=str(input('Veuillez entrez votre nom'))\n",
    "print('Hello',x,'!')"
   ]
  },
  {
   "cell_type": "code",
   "execution_count": 18,
   "id": "b247a3c0-f8ef-43af-bfd0-1d648e3eba23",
   "metadata": {},
   "outputs": [
    {
     "name": "stdin",
     "output_type": "stream",
     "text": [
      "Veuillez entrez un entier 1\n",
      "Veuillez entrez un entier 2\n",
      "Veuillez entrez un entier 3\n",
      "Veuillez entrez un entier 4\n",
      "Veuillez entrez un entier 5\n"
     ]
    },
    {
     "data": {
      "text/plain": [
       "[1, 2, 3, 4, 5]"
      ]
     },
     "execution_count": 18,
     "metadata": {},
     "output_type": "execute_result"
    }
   ],
   "source": [
    "def job_13():\n",
    "    A=[]\n",
    "    for i in range(5):\n",
    "        x=int(input('Veuillez entrez un entier'))\n",
    "        A.append(x)\n",
    "    A.sort()\n",
    "    return A\n",
    "job_13()"
   ]
  },
  {
   "cell_type": "code",
   "execution_count": 21,
   "id": "7efdcd97-2b0e-4df8-af15-650ad5883c46",
   "metadata": {},
   "outputs": [
    {
     "name": "stdout",
     "output_type": "stream",
     "text": [
      "1\n",
      "2\n",
      "Fizz\n",
      "3\n",
      "4\n",
      "Buzz\n",
      "5\n",
      "Fizz\n",
      "6\n",
      "7\n",
      "8\n",
      "Fizz\n",
      "9\n",
      "Buzz\n",
      "10\n",
      "11\n",
      "Fizz\n",
      "12\n",
      "13\n",
      "14\n",
      "Fizz\n",
      "Buzz\n",
      "FizzBuzz\n",
      "16\n",
      "17\n",
      "Fizz\n",
      "18\n",
      "19\n",
      "Buzz\n",
      "20\n",
      "Fizz\n",
      "21\n",
      "22\n",
      "23\n",
      "Fizz\n",
      "24\n",
      "Buzz\n",
      "25\n",
      "26\n",
      "Fizz\n",
      "27\n",
      "28\n",
      "29\n",
      "Fizz\n",
      "Buzz\n",
      "FizzBuzz\n",
      "31\n",
      "32\n",
      "Fizz\n",
      "33\n",
      "34\n",
      "Buzz\n",
      "35\n",
      "Fizz\n",
      "36\n",
      "37\n",
      "38\n",
      "Fizz\n",
      "39\n",
      "Buzz\n",
      "40\n",
      "41\n",
      "Fizz\n",
      "42\n",
      "43\n",
      "44\n",
      "Fizz\n",
      "Buzz\n",
      "FizzBuzz\n",
      "46\n",
      "47\n",
      "Fizz\n",
      "48\n",
      "49\n",
      "Buzz\n",
      "50\n",
      "Fizz\n",
      "51\n",
      "52\n",
      "53\n",
      "Fizz\n",
      "54\n",
      "Buzz\n",
      "55\n",
      "56\n",
      "Fizz\n",
      "57\n",
      "58\n",
      "59\n",
      "Fizz\n",
      "Buzz\n",
      "FizzBuzz\n",
      "61\n",
      "62\n",
      "Fizz\n",
      "63\n",
      "64\n",
      "Buzz\n",
      "65\n",
      "Fizz\n",
      "66\n",
      "67\n",
      "68\n",
      "Fizz\n",
      "69\n",
      "Buzz\n",
      "70\n",
      "71\n",
      "Fizz\n",
      "72\n",
      "73\n",
      "74\n",
      "Fizz\n",
      "Buzz\n",
      "FizzBuzz\n",
      "76\n",
      "77\n",
      "Fizz\n",
      "78\n",
      "79\n",
      "Buzz\n",
      "80\n",
      "Fizz\n",
      "81\n",
      "82\n",
      "83\n",
      "Fizz\n",
      "84\n",
      "Buzz\n",
      "85\n",
      "86\n",
      "Fizz\n",
      "87\n",
      "88\n",
      "89\n",
      "Fizz\n",
      "Buzz\n",
      "FizzBuzz\n",
      "91\n",
      "92\n",
      "Fizz\n",
      "93\n",
      "94\n",
      "Buzz\n",
      "95\n",
      "Fizz\n",
      "96\n",
      "97\n",
      "98\n",
      "Fizz\n",
      "99\n",
      "Buzz\n",
      "100\n"
     ]
    }
   ],
   "source": [
    "def job_17():\n",
    "    for i in range(1,101):\n",
    "        if i%3==0 :\n",
    "            print('Fizz')\n",
    "        if i%5==0 :\n",
    "            print('Buzz')\n",
    "        if i%5==0 and i%3==0 :\n",
    "            print('FizzBuzz')\n",
    "        else :\n",
    "            print(str(i))\n",
    "job_17()\n",
    "        "
   ]
  },
  {
   "cell_type": "code",
   "execution_count": 11,
   "id": "20fbb972-fe62-489e-8c5d-67dd35ac6621",
   "metadata": {
    "scrolled": true
   },
   "outputs": [
    {
     "name": "stdout",
     "output_type": "stream",
     "text": [
      "|------------------|\n",
      "|                  |\n",
      "|                  |\n",
      "|                  |\n",
      "|------------------|\n"
     ]
    }
   ],
   "source": [
    "def job_19(w,h):\n",
    "        print('|'+ '-'*(w-2) +'|')\n",
    "        for i in range(h-2):\n",
    "            print('|'+ ' '*(w-2) +'|')\n",
    "        print('|'+ '-'*(w-2) +'|')\n",
    "job_19(20,5)       \n",
    "        "
   ]
  },
  {
   "cell_type": "code",
   "execution_count": 132,
   "id": "a9bd7e20-7a91-491c-9562-0d7d522f2e85",
   "metadata": {},
   "outputs": [
    {
     "name": "stdout",
     "output_type": "stream",
     "text": [
      "       /\\ 0\n",
      "      /  \\ 1\n",
      "     /    \\ 2\n",
      "    /      \\ 3\n",
      "   /        \\ 4\n",
      "  /          \\ 5\n",
      " /            \\ 6\n",
      "/______________\\\n"
     ]
    }
   ],
   "source": [
    "def job_23(h): \n",
    "    for i in range(h-1):\n",
    "            print(' '*(h-1-i) + '/' + ' '*(2*i)+ '\\\\',i )\n",
    "    print('/' + '_'*(2*(h-1)) + '\\\\')\n",
    "job_23(8)            "
   ]
  },
  {
   "cell_type": "code",
   "execution_count": 107,
   "id": "8751054e",
   "metadata": {},
   "outputs": [
    {
     "data": {
      "text/plain": [
       "[86, 87, 90, 90, 90, 91, 92, 95]"
      ]
     },
     "execution_count": 107,
     "metadata": {},
     "output_type": "execute_result"
    }
   ],
   "source": [
    "def job_29(A):\n",
    "    B=[]\n",
    "    for x in A:\n",
    "        if x%5==0:\n",
    "            B.append(x)\n",
    "        for i in range(1,3):\n",
    "                if (x+i)%5==0:\n",
    "                    y=x+i\n",
    "                    B.append(y)\n",
    "        if (x+3)%5==0 or (x+4)%5==0:\n",
    "                B.append(x)\n",
    "        \n",
    "                \n",
    "    return B\n",
    "job_29([86,87,88,89,90,91,92,93])"
   ]
  },
  {
   "cell_type": "code",
   "execution_count": 114,
   "id": "f21c1f4d",
   "metadata": {},
   "outputs": [
    {
     "data": {
      "text/plain": [
       "[86, 87, 90, 90, 90, 91, 92, 95]"
      ]
     },
     "execution_count": 114,
     "metadata": {},
     "output_type": "execute_result"
    }
   ],
   "source": [
    "def job_29(A):\n",
    "    B=[]\n",
    "    for x in A:\n",
    "        if (x+1)%5==0:\n",
    "                y=x+1\n",
    "                B.append(y)\n",
    "        elif  (x+2)%5==0:\n",
    "                y=x+2\n",
    "                B.append(y)\n",
    "        else :\n",
    "                B.append(x)\n",
    "        \n",
    "                \n",
    "    return B\n",
    "job_29([86,87,88,89,90,91,92,93])"
   ]
  },
  {
   "cell_type": "code",
   "execution_count": 131,
   "id": "41a75aae",
   "metadata": {},
   "outputs": [
    {
     "name": "stdout",
     "output_type": "stream",
     "text": [
      "day\n",
      "[('d', 'a', 'y'), ('d', 'y', 'a'), ('a', 'd', 'y'), ('a', 'y', 'd'), ('y', 'd', 'a'), ('y', 'a', 'd')]\n"
     ]
    }
   ],
   "source": [
    "def job_31():\n",
    "    A=['a','b','c','d','e','f','g','h','i','j','k','l','m','n','o','p','q','r','s','t','u','v','w','x','y','z']\n",
    "    x=str(input(\"\"))\n",
    "    y=list(x)\n",
    "    c=0\n",
    "    for y_elmt in y :\n",
    "        if y_elmt in A:\n",
    "            c+=1\n",
    "    if c!=len(y): # critère de selection du mot.\n",
    "        return('Mot ne correpand pas aux régles !')\n",
    "    else : \n",
    "        from itertools import permutations\n",
    "        lst_perm=list(permutations(x))\n",
    "        print(lst_perm)\n",
    "        \n",
    "        \n",
    "        \n",
    "        \n",
    "        \n",
    "job_31()\n",
    "    "
   ]
  },
  {
   "cell_type": "code",
   "execution_count": null,
   "id": "b80fdaf7",
   "metadata": {},
   "outputs": [],
   "source": []
  },
  {
   "cell_type": "code",
   "execution_count": null,
   "id": "66509bc1",
   "metadata": {},
   "outputs": [],
   "source": []
  }
 ],
 "metadata": {
  "kernelspec": {
   "display_name": "Python 3 (ipykernel)",
   "language": "python",
   "name": "python3"
  },
  "language_info": {
   "codemirror_mode": {
    "name": "ipython",
    "version": 3
   },
   "file_extension": ".py",
   "mimetype": "text/x-python",
   "name": "python",
   "nbconvert_exporter": "python",
   "pygments_lexer": "ipython3",
   "version": "3.9.12"
  }
 },
 "nbformat": 4,
 "nbformat_minor": 5
}
